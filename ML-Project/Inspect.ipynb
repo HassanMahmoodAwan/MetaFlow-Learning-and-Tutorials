{
 "cells": [
  {
   "cell_type": "code",
   "execution_count": 90,
   "metadata": {},
   "outputs": [
    {
     "name": "stdout",
     "output_type": "stream",
     "text": [
      "Flow('BasicFlow')\n",
      "Flow('MachineLearningProject')\n",
      "Flow('FancyDefaultCardFlow')\n",
      "Flow('ForeachFlow')\n",
      "Flow('DefaultCardFlow')\n"
     ]
    }
   ],
   "source": [
    "from metaflow import Metaflow, Flow, Step\n",
    "for flow in Metaflow().flows:\n",
    "    print(flow)"
   ]
  },
  {
   "cell_type": "markdown",
   "metadata": {},
   "source": [
    "### Shows the All Runs for a WorkFLow"
   ]
  },
  {
   "cell_type": "code",
   "execution_count": 92,
   "metadata": {},
   "outputs": [
    {
     "name": "stdout",
     "output_type": "stream",
     "text": [
      "All Runs:  [Run('MachineLearningProject/1732251283120981'), Run('MachineLearningProject/1732251253498687'), Run('MachineLearningProject/1732249522234818'), Run('MachineLearningProject/1732249380530021')]\n",
      "Latest Runs:  Run('MachineLearningProject/1732251283120981')\n"
     ]
    }
   ],
   "source": [
    "flow = Flow('MachineLearningProject')\n",
    "runs = list(flow)\n",
    "\n",
    "print(\"All Runs: \", runs)\n",
    "print(\"Latest Runs: \", flow.latest_successful_run)"
   ]
  },
  {
   "cell_type": "code",
   "execution_count": 93,
   "metadata": {},
   "outputs": [
    {
     "name": "stdout",
     "output_type": "stream",
     "text": [
      "All Runs with TimeStamp: \n",
      "1732251283120981 :  2024-11-22 09:55:13.878000\n",
      "1732249522234818 :  2024-11-22 09:25:52.485000\n",
      "1732249380530021 :  2024-11-22 09:23:30.715000\n"
     ]
    }
   ],
   "source": [
    "print(\"All Runs with TimeStamp: \")\n",
    "for run in runs:\n",
    "   if run.successful:\n",
    "      print(run.id ,\": \", run.finished_at)"
   ]
  },
  {
   "cell_type": "markdown",
   "metadata": {},
   "source": [
    "#### Access Specific Run"
   ]
  },
  {
   "cell_type": "code",
   "execution_count": 94,
   "metadata": {},
   "outputs": [
    {
     "data": {
      "text/plain": [
       "Run('MachineLearningProject/1732249522234818')"
      ]
     },
     "execution_count": 94,
     "metadata": {},
     "output_type": "execute_result"
    }
   ],
   "source": [
    "run = flow['1732249522234818']\n",
    "run"
   ]
  },
  {
   "cell_type": "code",
   "execution_count": 95,
   "metadata": {},
   "outputs": [
    {
     "name": "stdout",
     "output_type": "stream",
     "text": [
      "DataSet Shape:  (920, 16) \n",
      "\n",
      "                Models  Accuracy\n",
      "0  Logistic Regression  0.619565\n",
      "1        Decision Tree  0.485507\n",
      "2        Random Forest  0.594203\n"
     ]
    }
   ],
   "source": [
    "print(\"DataSet Shape: \", Step('MachineLearningProject/1732249522234818/start').task.data.dataset_shape, \"\\n\")\n",
    "print(Step('MachineLearningProject/1732249522234818/join').task.data.Accuracy)"
   ]
  },
  {
   "cell_type": "markdown",
   "metadata": {},
   "source": [
    "#### Find Steps for latest Run"
   ]
  },
  {
   "cell_type": "code",
   "execution_count": 96,
   "metadata": {},
   "outputs": [
    {
     "data": {
      "text/plain": [
       "[Step('MachineLearningProject/1732251283120981/end'),\n",
       " Step('MachineLearningProject/1732251283120981/join'),\n",
       " Step('MachineLearningProject/1732251283120981/model_training'),\n",
       " Step('MachineLearningProject/1732251283120981/model_training_preprocess'),\n",
       " Step('MachineLearningProject/1732251283120981/feature_engineering'),\n",
       " Step('MachineLearningProject/1732251283120981/dataset_processing'),\n",
       " Step('MachineLearningProject/1732251283120981/start')]"
      ]
     },
     "execution_count": 96,
     "metadata": {},
     "output_type": "execute_result"
    }
   ],
   "source": [
    "list(flow.latest_successful_run)"
   ]
  },
  {
   "cell_type": "code",
   "execution_count": 97,
   "metadata": {},
   "outputs": [
    {
     "data": {
      "text/plain": [
       "['logisticRegression', 'decisionTree', 'RandomForest']"
      ]
     },
     "execution_count": 97,
     "metadata": {},
     "output_type": "execute_result"
    }
   ],
   "source": [
    "flow_steps = flow.latest_successful_run\n",
    "flow_steps['model_training_preprocess'].task.data.models"
   ]
  },
  {
   "cell_type": "code",
   "execution_count": 98,
   "metadata": {},
   "outputs": [
    {
     "name": "stdout",
     "output_type": "stream",
     "text": [
      "version: 1732251283120981 \n",
      "                Models  Accuracy\n",
      "0  Logistic Regression  0.619565\n",
      "1        Decision Tree  0.496377\n",
      "2        Random Forest  0.612319\n",
      "\n",
      "\n",
      "version: 1732249522234818 \n",
      "                Models  Accuracy\n",
      "0  Logistic Regression  0.619565\n",
      "1        Decision Tree  0.485507\n",
      "2        Random Forest  0.594203\n",
      "\n",
      "\n",
      "version: 1732249380530021 \n",
      "                Models  Accuracy\n",
      "0  Logistic Regression  0.619565\n",
      "1        Decision Tree  0.481884\n",
      "2        Random Forest  0.583333\n",
      "\n",
      "\n"
     ]
    }
   ],
   "source": [
    "for f in flow:\n",
    "    if f.successful:\n",
    "        print(f\"version: {f.id} \")\n",
    "        print(f[\"join\"].task.data.Accuracy)\n",
    "        print(\"\\n\")"
   ]
  }
 ],
 "metadata": {
  "kernelspec": {
   "display_name": "venv",
   "language": "python",
   "name": "python3"
  },
  "language_info": {
   "codemirror_mode": {
    "name": "ipython",
    "version": 3
   },
   "file_extension": ".py",
   "mimetype": "text/x-python",
   "name": "python",
   "nbconvert_exporter": "python",
   "pygments_lexer": "ipython3",
   "version": "3.12.3"
  }
 },
 "nbformat": 4,
 "nbformat_minor": 2
}
