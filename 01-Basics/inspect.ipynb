{
 "cells": [
  {
   "cell_type": "code",
   "execution_count": 1,
   "metadata": {},
   "outputs": [
    {
     "name": "stdout",
     "output_type": "stream",
     "text": [
      "Current metadata provider: local@/home/hassanmahmood/01-PROFESSIONAL-CAREER/01-ALLIED-BANK-WORKSPACE/MetaFlow-Learning-and-Tutorials\n"
     ]
    }
   ],
   "source": [
    "from metaflow import Flow, get_metadata\n",
    "print(\"Current metadata provider: %s\" % get_metadata())"
   ]
  },
  {
   "cell_type": "code",
   "execution_count": 2,
   "metadata": {},
   "outputs": [
    {
     "name": "stdout",
     "output_type": "stream",
     "text": [
      "Using run: Run('BasicFlow/1732090477371879')\n"
     ]
    }
   ],
   "source": [
    "run = Flow('BasicFlow').latest_successful_run\n",
    "print(\"Using run: %s\" % str(run))"
   ]
  },
  {
   "cell_type": "code",
   "execution_count": 8,
   "metadata": {},
   "outputs": [
    {
     "name": "stdout",
     "output_type": "stream",
     "text": [
      "Playlist generated on 2024-11-20 13:14:41.169000\n",
      "\n",
      "Playlist for movies in genre '<MetaflowData: name, all_users>'\n"
     ]
    }
   ],
   "source": [
    "print(\"Playlist generated on %s\\n\" % str(run.finished_at))\n",
    "print(\"Playlist for movies in genre '%s'\" % run.data)"
   ]
  },
  {
   "cell_type": "code",
   "execution_count": 22,
   "metadata": {},
   "outputs": [
    {
     "name": "stdout",
     "output_type": "stream",
     "text": [
      "<MetaflowData: name, all_users>\n",
      "<MetaflowData: name, all_users>\n",
      "<MetaflowData: name, all_users>\n",
      "<MetaflowData: name, all_users>\n",
      "<MetaflowData: name, all_users>\n",
      "<MetaflowData: name, all_users>\n",
      "6\n",
      "6\n",
      "6\n",
      "6\n",
      "6\n",
      "6\n",
      "6\n",
      "6\n",
      "6\n",
      "6\n",
      "0.18\n",
      "<MetaflowData: interest_Rates, age, name, result>\n",
      "<MetaflowData: age, name, result>\n"
     ]
    }
   ],
   "source": [
    "for run in Flow('BasicFlow').runs():\n",
    "    if run.data != None:\n",
    "        try:\n",
    "            print(run.data.interest)\n",
    "        except:\n",
    "            print(run.data)"
   ]
  },
  {
   "cell_type": "code",
   "execution_count": 23,
   "metadata": {},
   "outputs": [
    {
     "name": "stdout",
     "output_type": "stream",
     "text": [
      "[Flow('BasicFlow'), Flow('ForeachFlow')]\n"
     ]
    }
   ],
   "source": [
    "from metaflow import Metaflow\n",
    "print(Metaflow().flows)"
   ]
  },
  {
   "cell_type": "code",
   "execution_count": 35,
   "metadata": {},
   "outputs": [],
   "source": [
    "from metaflow import Flow\n",
    "flow = Flow('BasicFlow')\n",
    "runs = list(flow)\n",
    "\n"
   ]
  },
  {
   "cell_type": "code",
   "execution_count": 39,
   "metadata": {},
   "outputs": [
    {
     "data": {
      "text/plain": [
       "(Step('BasicFlow/1732090477371879/'),)"
      ]
     },
     "execution_count": 39,
     "metadata": {},
     "output_type": "execute_result"
    }
   ],
   "source": [
    "from metaflow import Step\n",
    "step = Step('BasicFlow/1732090477371879/'),\n",
    "step\n"
   ]
  },
  {
   "cell_type": "code",
   "execution_count": 44,
   "metadata": {},
   "outputs": [
    {
     "name": "stdout",
     "output_type": "stream",
     "text": [
      "15000000.0\n",
      "2024-11-20 13:14:40.187000\n"
     ]
    }
   ],
   "source": [
    "step = Step('BasicFlow/1732090477371879/join')\n",
    "data = Step('BasicFlow/1732090477371879/join').task.data.payable_Amount\n",
    "print(data)\n",
    "\n",
    "if step.task.successful:\n",
    "    print(step.task.finished_at)"
   ]
  }
 ],
 "metadata": {
  "kernelspec": {
   "display_name": "venv",
   "language": "python",
   "name": "python3"
  },
  "language_info": {
   "codemirror_mode": {
    "name": "ipython",
    "version": 3
   },
   "file_extension": ".py",
   "mimetype": "text/x-python",
   "name": "python",
   "nbconvert_exporter": "python",
   "pygments_lexer": "ipython3",
   "version": "3.12.3"
  }
 },
 "nbformat": 4,
 "nbformat_minor": 2
}
